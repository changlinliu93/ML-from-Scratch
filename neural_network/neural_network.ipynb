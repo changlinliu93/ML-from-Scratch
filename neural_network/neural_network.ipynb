{
 "cells": [
  {
   "cell_type": "code",
   "execution_count": 3,
   "metadata": {},
   "outputs": [],
   "source": [
    "from neural_network import NeuralNetWork\n",
    "import numpy as np"
   ]
  },
  {
   "cell_type": "code",
   "execution_count": 4,
   "metadata": {},
   "outputs": [
    {
     "data": {
      "text/plain": [
       "<neural_network.NeuralNetWork at 0x7f2199f18160>"
      ]
     },
     "execution_count": 4,
     "metadata": {},
     "output_type": "execute_result"
    }
   ],
   "source": [
    "nn = NeuralNetWork([2,3,2], 0.1)\n",
    "nn.set_weights((np.array([[0.1,-0.2],\n",
    "                          [0,0.2],\n",
    "                          [0.3,-0.4]]),\n",
    "                np.array([[-0.4,0.1,0.6],\n",
    "                          [0.2,-0.1,-0.2]])))\n",
    "nn.set_biases((np.array([[0.1],[0.2],[0.5]]),\n",
    "               np.array([[-0.1],[0.6]])))"
   ]
  },
  {
   "cell_type": "code",
   "execution_count": 5,
   "metadata": {},
   "outputs": [
    {
     "name": "stdout",
     "output_type": "stream",
     "text": [
      "[[0.5621765 ]\n",
      " [0.61727549]]\n",
      "[array([[ 0.10260519, -0.1995658 ],\n",
      "       [-0.00082833,  0.19986194],\n",
      "       [ 0.29633352, -0.40061108]]), array([[-0.41148251,  0.0880917 ,  0.58594576],\n",
      "       [ 0.2079317 , -0.09177418, -0.19029185]])]\n",
      "[array([[0.10434198],\n",
      "       [0.19861944],\n",
      "       [0.49388919]]), array([[-0.12146493],\n",
      "       [ 0.61482719]])]\n"
     ]
    }
   ],
   "source": [
    "nn.forward(np.asarray([[0.6],[0.1]]))\n",
    "nn.backward(np.asarray([[0],[1]]))\n",
    "print(nn.weights)\n",
    "print(nn.biases)"
   ]
  },
  {
   "cell_type": "code",
   "execution_count": 6,
   "metadata": {},
   "outputs": [
    {
     "name": "stdout",
     "output_type": "stream",
     "text": [
      "[[0.5320196 ]\n",
      " [0.62767015]]\n",
      "[array([[ 0.10169473, -0.20093149],\n",
      "       [-0.00053954,  0.20029513],\n",
      "       [ 0.29748798, -0.39887938]]), array([[-0.40241965,  0.09799728,  0.59659459],\n",
      "       [ 0.19537843, -0.10549473, -0.20504189]])]\n",
      "[array([[0.0997897 ],\n",
      "       [0.2000634 ],\n",
      "       [0.49966153]]), array([[-0.1039095 ],\n",
      "       [ 0.59051058]])]\n"
     ]
    }
   ],
   "source": [
    "nn.forward(np.asarray([[0.2],[0.3]]))\n",
    "nn.backward(np.asarray([[1],[0]]))\n",
    "print(nn.weights)\n",
    "print(nn.biases)"
   ]
  }
 ],
 "metadata": {
  "kernelspec": {
   "display_name": "Python 3",
   "language": "python",
   "name": "python3"
  },
  "language_info": {
   "codemirror_mode": {
    "name": "ipython",
    "version": 3
   },
   "file_extension": ".py",
   "mimetype": "text/x-python",
   "name": "python",
   "nbconvert_exporter": "python",
   "pygments_lexer": "ipython3",
   "version": "3.6.9"
  }
 },
 "nbformat": 4,
 "nbformat_minor": 2
}
