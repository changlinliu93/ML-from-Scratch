{
 "cells": [
  {
   "cell_type": "code",
   "execution_count": 1,
   "id": "united-qualification",
   "metadata": {},
   "outputs": [],
   "source": [
    "from libsvm.svmutil import *\n",
    "from sklearn.model_selection import KFold, GroupKFold\n",
    "from sklearn.ensemble import AdaBoostClassifier\n",
    "import numpy as np"
   ]
  },
  {
   "cell_type": "markdown",
   "id": "psychological-walker",
   "metadata": {},
   "source": [
    "# SVM"
   ]
  },
  {
   "cell_type": "code",
   "execution_count": 2,
   "id": "average-quebec",
   "metadata": {},
   "outputs": [],
   "source": [
    "y_train, x_train = svm_read_problem(\n",
    "    'data/CSDS600_HW4_DogsVsCats/DogsVsCats/DogsVsCats/DogsVsCats.train')\n",
    "y_test, x_test = svm_read_problem(\n",
    "    'data/CSDS600_HW4_DogsVsCats/DogsVsCats/DogsVsCats/DogsVsCats.test')\n",
    "y_train = np.asarray(y_train)\n",
    "x_train = np.asarray(x_train)\n",
    "y_test = np.asarray(y_test)\n",
    "x_test = np.asarray(x_test)"
   ]
  },
  {
   "cell_type": "code",
   "execution_count": 150,
   "id": "manufactured-judge",
   "metadata": {},
   "outputs": [],
   "source": [
    "kf = KFold(n_splits=10, shuffle=True)"
   ]
  },
  {
   "cell_type": "code",
   "execution_count": 160,
   "id": "latest-history",
   "metadata": {},
   "outputs": [
    {
     "name": "stdout",
     "output_type": "stream",
     "text": [
      "Accuracy = 60.8% (760/1250) (classification)\n",
      "Accuracy = 59.28% (741/1250) (classification)\n",
      "Accuracy = 59.28% (741/1250) (classification)\n",
      "Accuracy = 60.48% (756/1250) (classification)\n",
      "Accuracy = 62% (775/1250) (classification)\n",
      "Accuracy = 59.6% (745/1250) (classification)\n",
      "Accuracy = 60.48% (756/1250) (classification)\n",
      "Accuracy = 57.68% (721/1250) (classification)\n",
      "Accuracy = 59.68% (746/1250) (classification)\n",
      "Accuracy = 59.04% (738/1250) (classification)\n",
      "Mean Accuracy: 59.83200000000001\n"
     ]
    }
   ],
   "source": [
    "val_acc = 0\n",
    "for train_index, val_index in kf.split(x_train):\n",
    "    y_train_loop, x_train_loop = y_train[train_index].tolist(), x_train[train_index].tolist()\n",
    "    y_val_loop, x_val_loop = y_train[val_index].tolist(), x_train[val_index].tolist()\n",
    "    m_linear = svm_train(y_train_loop, x_train_loop, '-s 0 -t 0')\n",
    "    label, acc, val = svm_predict(y_val_loop, x_val_loop, m_linear)\n",
    "    val_acc += acc[0]\n",
    "val_acc /= 10\n",
    "print(f'Mean Accuracy: {val_acc}')"
   ]
  },
  {
   "cell_type": "code",
   "execution_count": 188,
   "id": "clear-master",
   "metadata": {},
   "outputs": [
    {
     "name": "stdout",
     "output_type": "stream",
     "text": [
      "Accuracy = 64.24% (803/1250) (classification)\n",
      "Accuracy = 65.44% (818/1250) (classification)\n",
      "Accuracy = 60.96% (762/1250) (classification)\n",
      "Accuracy = 62.72% (784/1250) (classification)\n",
      "Accuracy = 62.88% (786/1250) (classification)\n",
      "Accuracy = 61.76% (772/1250) (classification)\n",
      "Accuracy = 62.8% (785/1250) (classification)\n",
      "Accuracy = 59.92% (749/1250) (classification)\n",
      "Accuracy = 61.2% (765/1250) (classification)\n",
      "Accuracy = 60.8% (760/1250) (classification)\n",
      "Mean Accuracy: 62.272000000000006\n"
     ]
    }
   ],
   "source": [
    "val_acc = 0\n",
    "for train_index, val_index in kf.split(x_train):\n",
    "    y_train_loop, x_train_loop = y_train[train_index].tolist(), x_train[train_index].tolist()\n",
    "    y_val_loop, x_val_loop = y_train[val_index].tolist(), x_train[val_index].tolist()\n",
    "    m_poly = svm_train(y_train_loop, x_train_loop, '-s 0 -t 1 -d 5 -g 1 -r 1')\n",
    "    label, acc, val = svm_predict(y_val_loop, x_val_loop, m_poly)\n",
    "    val_acc += acc[0]\n",
    "val_acc /= 10\n",
    "print(f'Mean Accuracy: {val_acc}')"
   ]
  },
  {
   "cell_type": "code",
   "execution_count": 162,
   "id": "radio-angel",
   "metadata": {},
   "outputs": [
    {
     "name": "stdout",
     "output_type": "stream",
     "text": [
      "Train:\n",
      "Accuracy = 60.12% (7515/12500) (classification)\n",
      "Test:\n",
      "Accuracy = 59.2% (7400/12500) (classification)\n"
     ]
    }
   ],
   "source": [
    "m_linear = svm_train(y_train, x_train, '-s 0 -t 0')\n",
    "print('Train:')\n",
    "label, acc, val = svm_predict(y_train, x_train, m_linear)\n",
    "print('Test:')\n",
    "label, acc, val = svm_predict(y_test, x_test, m_linear)"
   ]
  },
  {
   "cell_type": "code",
   "execution_count": 189,
   "id": "intensive-vacation",
   "metadata": {},
   "outputs": [
    {
     "name": "stdout",
     "output_type": "stream",
     "text": [
      "Train:\n",
      "Accuracy = 63.496% (7937/12500) (classification)\n",
      "Test:\n",
      "Accuracy = 61.584% (7698/12500) (classification)\n"
     ]
    }
   ],
   "source": [
    "m_poly = svm_train(y_train, x_train, '-s 0 -t 1 -d 5 -g 1 -r 1')\n",
    "print('Train:')\n",
    "label, acc, val = svm_predict(y_train, x_train, m_poly)\n",
    "print('Test:')\n",
    "label, acc, val = svm_predict(y_test, x_test, m_poly)"
   ]
  },
  {
   "cell_type": "markdown",
   "id": "worst-terry",
   "metadata": {},
   "source": [
    "# Boosting"
   ]
  },
  {
   "cell_type": "code",
   "execution_count": 3,
   "id": "smooth-overview",
   "metadata": {},
   "outputs": [],
   "source": [
    "from sklearn.svm import SVC"
   ]
  },
  {
   "cell_type": "code",
   "execution_count": 4,
   "id": "outdoor-delicious",
   "metadata": {},
   "outputs": [],
   "source": [
    "x_train_sk = []\n",
    "for i in x_train:\n",
    "    sample = []\n",
    "    for j in range(1, 65):\n",
    "        sample.append(i[j])\n",
    "    x_train_sk.append(sample)\n",
    "x_train_sk = np.asarray(x_train_sk)"
   ]
  },
  {
   "cell_type": "code",
   "execution_count": 5,
   "id": "baking-bookmark",
   "metadata": {},
   "outputs": [],
   "source": [
    "x_test_sk = []\n",
    "for i in x_test:\n",
    "    sample = []\n",
    "    for j in range(1, 65):\n",
    "        sample.append(i[j])\n",
    "    x_test_sk.append(sample)\n",
    "x_test_sk = np.asarray(x_test_sk)"
   ]
  },
  {
   "cell_type": "markdown",
   "id": "streaming-graduate",
   "metadata": {},
   "source": [
    "## Boost Linear SVM"
   ]
  },
  {
   "cell_type": "code",
   "execution_count": 175,
   "id": "surprising-flooring",
   "metadata": {},
   "outputs": [
    {
     "data": {
      "text/plain": [
       "0.59184"
      ]
     },
     "execution_count": 175,
     "metadata": {},
     "output_type": "execute_result"
    }
   ],
   "source": [
    "svm = SVC(kernel='linear')\n",
    "svm.fit(x_train_sk, y_train)\n",
    "svm.score(x_test_sk, y_test)"
   ]
  },
  {
   "cell_type": "code",
   "execution_count": null,
   "id": "abroad-aircraft",
   "metadata": {},
   "outputs": [],
   "source": [
    "clf1 = AdaBoostClassifier(base_estimator=SVC(kernel='linear', probability=True), n_estimators=10)\n",
    "clf1.fit(x_train_sk, y_train)\n",
    "clf1.score(x_test_sk, y_test)"
   ]
  },
  {
   "cell_type": "code",
   "execution_count": null,
   "id": "nearby-equality",
   "metadata": {},
   "outputs": [],
   "source": [
    "clf1.score(x_train_sk, y_train)"
   ]
  },
  {
   "cell_type": "code",
   "execution_count": null,
   "id": "physical-lingerie",
   "metadata": {},
   "outputs": [],
   "source": [
    "clf2 = AdaBoostClassifier(base_estimator=SVC(kernel='linear', probability=True), n_estimators=20)\n",
    "clf2.fit(x_train_sk, y_train)\n",
    "clf2.score(x_test_sk, y_test)"
   ]
  },
  {
   "cell_type": "code",
   "execution_count": null,
   "id": "finnish-rabbit",
   "metadata": {},
   "outputs": [],
   "source": [
    "clf2.score(x_train_sk, y_train)"
   ]
  },
  {
   "cell_type": "markdown",
   "id": "explicit-rouge",
   "metadata": {},
   "source": [
    "## Boost Polynomial SVM"
   ]
  },
  {
   "cell_type": "code",
   "execution_count": null,
   "id": "architectural-bulgaria",
   "metadata": {},
   "outputs": [],
   "source": [
    "svm = SVC(kernel='poly', degree=5)\n",
    "svm.fit(x_train_sk, y_train)\n",
    "svm.score(x_test_sk, y_test)"
   ]
  },
  {
   "cell_type": "code",
   "execution_count": null,
   "id": "fossil-brook",
   "metadata": {},
   "outputs": [],
   "source": [
    "clf3 = AdaBoostClassifier(base_estimator=SVC(kernel='poly', degree=5, probability=True), n_estimators=10)\n",
    "clf3.fit(x_train_sk, y_train)\n",
    "clf3.score(x_test_sk, y_test)"
   ]
  },
  {
   "cell_type": "code",
   "execution_count": null,
   "id": "underlying-funeral",
   "metadata": {},
   "outputs": [],
   "source": [
    "clf3.score(x_train_sk, y_train)"
   ]
  },
  {
   "cell_type": "code",
   "execution_count": null,
   "id": "sound-tribe",
   "metadata": {},
   "outputs": [],
   "source": [
    "clf4 = AdaBoostClassifier(base_estimator=SVC(kernel='poly', degree=5, probability=True), n_estimators=20)\n",
    "clf4.fit(x_train_sk, y_train)\n",
    "clf4.score(x_test_sk, y_test)"
   ]
  },
  {
   "cell_type": "code",
   "execution_count": null,
   "id": "possible-float",
   "metadata": {},
   "outputs": [],
   "source": [
    "clf4.score(x_train_sk, y_train)"
   ]
  }
 ],
 "metadata": {
  "kernelspec": {
   "display_name": "Python 3",
   "language": "python",
   "name": "python3"
  },
  "language_info": {
   "codemirror_mode": {
    "name": "ipython",
    "version": 3
   },
   "file_extension": ".py",
   "mimetype": "text/x-python",
   "name": "python",
   "nbconvert_exporter": "python",
   "pygments_lexer": "ipython3",
   "version": "3.8.5"
  }
 },
 "nbformat": 4,
 "nbformat_minor": 5
}
